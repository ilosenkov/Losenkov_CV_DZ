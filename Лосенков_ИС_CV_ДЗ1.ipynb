{
 "cells": [
  {
   "cell_type": "code",
   "execution_count": 134,
   "id": "e8243371-2c04-49a6-9ff2-7223d077b10f",
   "metadata": {},
   "outputs": [],
   "source": [
    "import cv2\n",
    "import numpy as np\n",
    "import pandas as pd"
   ]
  },
  {
   "cell_type": "markdown",
   "id": "d92dbd38-86bf-4a96-95b4-05ea124d20a2",
   "metadata": {},
   "source": [
    "### 1. Загрузка данных"
   ]
  },
  {
   "cell_type": "code",
   "execution_count": 80,
   "id": "d65fb9a3-1332-499a-9011-3fbecc5bd775",
   "metadata": {},
   "outputs": [],
   "source": [
    "train = np.loadtxt(r\"D:\\НЕТОЛОГИЯ\\Comp Vision\\файлы\\train.csv\", delimiter=',', skiprows=1)\n",
    "test = np.loadtxt(r\"D:\\НЕТОЛОГИЯ\\Comp Vision\\файлы\\test.csv\", delimiter=',', skiprows=1)"
   ]
  },
  {
   "cell_type": "code",
   "execution_count": 118,
   "id": "cef7757f-4b39-46c3-b04b-51e96c1ae154",
   "metadata": {},
   "outputs": [],
   "source": [
    "# Выделяме массив с классами\n",
    "train_label = train[:, 0]\n",
    "\n",
    "# Переводим вектора объектов в матрицу черно-белого изображения размером 28х28 пикс.\n",
    "train_img = np.resize(train[:, 1:], (train.shape[0], 28, 28))\n",
    "test_img = np.resize(test, (test.shape[0], 28, 28))"
   ]
  },
  {
   "cell_type": "markdown",
   "id": "a355c817-bfa3-44ae-8ab9-45d9df70846f",
   "metadata": {},
   "source": [
    "### 2. Гистограммы градиентов"
   ]
  },
  {
   "cell_type": "code",
   "execution_count": 120,
   "id": "aa7b0f1f-e40a-4d8c-96d2-6c820b61b92b",
   "metadata": {},
   "outputs": [],
   "source": [
    "# Вычисление горизонатльной и вертикальной компонент градиента через оператор Собеля\n",
    "train_sobel_x = np.zeros_like(train_img)\n",
    "train_sobel_y = np.zeros_like(train_img)\n",
    "for i in range(len(train_img)):\n",
    "    train_sobel_x[i] = cv2.Sobel(train_img[i], cv2.CV_64F, dx=1, dy=0, ksize=3)\n",
    "    train_sobel_y[i] = cv2.Sobel(train_img[i], cv2.CV_64F, dx=0, dy=1, ksize=3)\n",
    "\n",
    "test_sobel_x = np.zeros_like(test_img)\n",
    "test_sobel_y = np.zeros_like(test_img)\n",
    "for i in range(len(test_img)):\n",
    "    test_sobel_x[i] = cv2.Sobel(test_img[i], cv2.CV_64F, dx=1, dy=0, ksize=3)\n",
    "    test_sobel_y[i] = cv2.Sobel(test_img[i], cv2.CV_64F, dx=0, dy=1, ksize=3)"
   ]
  },
  {
   "cell_type": "code",
   "execution_count": 122,
   "id": "1305a8b7-37a9-4f33-865b-1721e97affa0",
   "metadata": {},
   "outputs": [],
   "source": [
    "# Вычисление угла и длины векторов градиентов\n",
    "train_g, train_theta = cv2.cartToPolar(train_sobel_x, train_sobel_y)\n",
    "test_g, test_theta = cv2.cartToPolar(test_sobel_x, test_sobel_y)"
   ]
  },
  {
   "cell_type": "code",
   "execution_count": 124,
   "id": "8825b8dc-d7f4-48bb-8a43-9f9fc532d71f",
   "metadata": {},
   "outputs": [],
   "source": [
    "# Вычисление гистограмм градиентов\n",
    "train_hist = np.zeros((len(train_img), 16))\n",
    "for i in range(len(train_img)):\n",
    "    hist, borders = np.histogram(train_theta[i],\n",
    "                                 bins=16,\n",
    "                                 range=(0., 2. * np.pi),\n",
    "                                 weights=train_g[i])\n",
    "    train_hist[i] = hist\n",
    "\n",
    "test_hist = np.zeros((len(test_img), 16))\n",
    "for i in range(len(test_img)):\n",
    "    hist, borders = np.histogram(test_theta[i],\n",
    "                                 bins=16,\n",
    "                                 range=(0., 2. * np.pi),\n",
    "                                 weights=test_g[i])\n",
    "    test_hist[i] = hist"
   ]
  },
  {
   "cell_type": "code",
   "execution_count": 125,
   "id": "2df59a3b-4277-4d47-9e84-a4a767a3cab4",
   "metadata": {},
   "outputs": [],
   "source": [
    "# Нормирование векторов гистограмм (по Евклидовому расстоянию)\n",
    "train_hist = train_hist / np.linalg.norm(train_hist, axis=1)[:, None]\n",
    "test_hist = test_hist / np.linalg.norm(test_hist, axis=1)[:, None]"
   ]
  },
  {
   "cell_type": "markdown",
   "id": "ff385d7a-b4c0-4057-9cee-4edeba599dfd",
   "metadata": {},
   "source": [
    "### 3. Модель для предсказания"
   ]
  },
  {
   "cell_type": "code",
   "execution_count": 126,
   "id": "cd67e975-5b9d-4a5c-841e-9439194e4c3d",
   "metadata": {},
   "outputs": [],
   "source": [
    "# Разбиваем выборку\n",
    "from sklearn.model_selection import train_test_split\n",
    "\n",
    "y_train, y_val, x_train, x_val = train_test_split(train_label, train_hist, test_size=0.2, random_state=42)"
   ]
  },
  {
   "cell_type": "code",
   "execution_count": 130,
   "id": "1f6d048e-27e3-45b7-9e53-f438521b20c1",
   "metadata": {},
   "outputs": [
    {
     "data": {
      "text/html": [
       "<style>#sk-container-id-3 {color: black;}#sk-container-id-3 pre{padding: 0;}#sk-container-id-3 div.sk-toggleable {background-color: white;}#sk-container-id-3 label.sk-toggleable__label {cursor: pointer;display: block;width: 100%;margin-bottom: 0;padding: 0.3em;box-sizing: border-box;text-align: center;}#sk-container-id-3 label.sk-toggleable__label-arrow:before {content: \"▸\";float: left;margin-right: 0.25em;color: #696969;}#sk-container-id-3 label.sk-toggleable__label-arrow:hover:before {color: black;}#sk-container-id-3 div.sk-estimator:hover label.sk-toggleable__label-arrow:before {color: black;}#sk-container-id-3 div.sk-toggleable__content {max-height: 0;max-width: 0;overflow: hidden;text-align: left;background-color: #f0f8ff;}#sk-container-id-3 div.sk-toggleable__content pre {margin: 0.2em;color: black;border-radius: 0.25em;background-color: #f0f8ff;}#sk-container-id-3 input.sk-toggleable__control:checked~div.sk-toggleable__content {max-height: 200px;max-width: 100%;overflow: auto;}#sk-container-id-3 input.sk-toggleable__control:checked~label.sk-toggleable__label-arrow:before {content: \"▾\";}#sk-container-id-3 div.sk-estimator input.sk-toggleable__control:checked~label.sk-toggleable__label {background-color: #d4ebff;}#sk-container-id-3 div.sk-label input.sk-toggleable__control:checked~label.sk-toggleable__label {background-color: #d4ebff;}#sk-container-id-3 input.sk-hidden--visually {border: 0;clip: rect(1px 1px 1px 1px);clip: rect(1px, 1px, 1px, 1px);height: 1px;margin: -1px;overflow: hidden;padding: 0;position: absolute;width: 1px;}#sk-container-id-3 div.sk-estimator {font-family: monospace;background-color: #f0f8ff;border: 1px dotted black;border-radius: 0.25em;box-sizing: border-box;margin-bottom: 0.5em;}#sk-container-id-3 div.sk-estimator:hover {background-color: #d4ebff;}#sk-container-id-3 div.sk-parallel-item::after {content: \"\";width: 100%;border-bottom: 1px solid gray;flex-grow: 1;}#sk-container-id-3 div.sk-label:hover label.sk-toggleable__label {background-color: #d4ebff;}#sk-container-id-3 div.sk-serial::before {content: \"\";position: absolute;border-left: 1px solid gray;box-sizing: border-box;top: 0;bottom: 0;left: 50%;z-index: 0;}#sk-container-id-3 div.sk-serial {display: flex;flex-direction: column;align-items: center;background-color: white;padding-right: 0.2em;padding-left: 0.2em;position: relative;}#sk-container-id-3 div.sk-item {position: relative;z-index: 1;}#sk-container-id-3 div.sk-parallel {display: flex;align-items: stretch;justify-content: center;background-color: white;position: relative;}#sk-container-id-3 div.sk-item::before, #sk-container-id-3 div.sk-parallel-item::before {content: \"\";position: absolute;border-left: 1px solid gray;box-sizing: border-box;top: 0;bottom: 0;left: 50%;z-index: -1;}#sk-container-id-3 div.sk-parallel-item {display: flex;flex-direction: column;z-index: 1;position: relative;background-color: white;}#sk-container-id-3 div.sk-parallel-item:first-child::after {align-self: flex-end;width: 50%;}#sk-container-id-3 div.sk-parallel-item:last-child::after {align-self: flex-start;width: 50%;}#sk-container-id-3 div.sk-parallel-item:only-child::after {width: 0;}#sk-container-id-3 div.sk-dashed-wrapped {border: 1px dashed gray;margin: 0 0.4em 0.5em 0.4em;box-sizing: border-box;padding-bottom: 0.4em;background-color: white;}#sk-container-id-3 div.sk-label label {font-family: monospace;font-weight: bold;display: inline-block;line-height: 1.2em;}#sk-container-id-3 div.sk-label-container {text-align: center;}#sk-container-id-3 div.sk-container {/* jupyter's `normalize.less` sets `[hidden] { display: none; }` but bootstrap.min.css set `[hidden] { display: none !important; }` so we also need the `!important` here to be able to override the default hidden behavior on the sphinx rendered scikit-learn.org. See: https://github.com/scikit-learn/scikit-learn/issues/21755 */display: inline-block !important;position: relative;}#sk-container-id-3 div.sk-text-repr-fallback {display: none;}</style><div id=\"sk-container-id-3\" class=\"sk-top-container\"><div class=\"sk-text-repr-fallback\"><pre>RandomForestClassifier(max_depth=20, min_samples_leaf=2, min_samples_split=5,\n",
       "                       random_state=42)</pre><b>In a Jupyter environment, please rerun this cell to show the HTML representation or trust the notebook. <br />On GitHub, the HTML representation is unable to render, please try loading this page with nbviewer.org.</b></div><div class=\"sk-container\" hidden><div class=\"sk-item\"><div class=\"sk-estimator sk-toggleable\"><input class=\"sk-toggleable__control sk-hidden--visually\" id=\"sk-estimator-id-3\" type=\"checkbox\" checked><label for=\"sk-estimator-id-3\" class=\"sk-toggleable__label sk-toggleable__label-arrow\">RandomForestClassifier</label><div class=\"sk-toggleable__content\"><pre>RandomForestClassifier(max_depth=20, min_samples_leaf=2, min_samples_split=5,\n",
       "                       random_state=42)</pre></div></div></div></div></div>"
      ],
      "text/plain": [
       "RandomForestClassifier(max_depth=20, min_samples_leaf=2, min_samples_split=5,\n",
       "                       random_state=42)"
      ]
     },
     "execution_count": 130,
     "metadata": {},
     "output_type": "execute_result"
    }
   ],
   "source": [
    "# Обучение модели случайного леса\n",
    "from sklearn.ensemble import RandomForestClassifier\n",
    "\n",
    "rf = RandomForestClassifier(max_depth = 20, min_samples_leaf = 2, min_samples_split = 5, random_state = 42)\n",
    "rf.fit(x_train, y_train)"
   ]
  },
  {
   "cell_type": "code",
   "execution_count": 132,
   "id": "91c73fba-2c1f-4cc2-a984-87d2213eca47",
   "metadata": {},
   "outputs": [
    {
     "name": "stdout",
     "output_type": "stream",
     "text": [
      "Точность на вал. данных: 0.647\n"
     ]
    }
   ],
   "source": [
    "# Точность модели на валидационной и тестовой выборке\n",
    "from sklearn.metrics import accuracy_score\n",
    "\n",
    "pred_val = rf.predict(x_val)\n",
    "acc_val = accuracy_score(y_val, pred_val)\n",
    "print(f'Точность на вал. данных: {acc_val:.3f}')"
   ]
  },
  {
   "cell_type": "code",
   "execution_count": 158,
   "id": "a8dba8f5-54c3-43ad-a036-47e50222df5a",
   "metadata": {},
   "outputs": [],
   "source": [
    "# Предсказание на тестовых данных\n",
    "pred_test = rf.predict(test_hist)\n",
    "\n",
    "df = pd.DataFrame({'ImageId': np.arange(1, len(pred_test) + 1, 1),\n",
    "                  'Label': pred_test})\n",
    "\n",
    "df['Label'] = df['Label'].astype(int)\n",
    "df.to_csv(r\"D:\\НЕТОЛОГИЯ\\Comp Vision\\файлы\\mnist_prediction.csv\", index = False)"
   ]
  }
 ],
 "metadata": {
  "kernelspec": {
   "display_name": "Python [conda env:base] *",
   "language": "python",
   "name": "conda-base-py"
  },
  "language_info": {
   "codemirror_mode": {
    "name": "ipython",
    "version": 3
   },
   "file_extension": ".py",
   "mimetype": "text/x-python",
   "name": "python",
   "nbconvert_exporter": "python",
   "pygments_lexer": "ipython3",
   "version": "3.11.5"
  }
 },
 "nbformat": 4,
 "nbformat_minor": 5
}
